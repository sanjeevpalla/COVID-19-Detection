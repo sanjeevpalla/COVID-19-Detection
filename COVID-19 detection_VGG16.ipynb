{
 "cells": [
  {
   "cell_type": "markdown",
   "metadata": {},
   "source": [
    "# Detecting COVID-19 in X-ray Images using VGG16 CNN Model"
   ]
  },
  {
   "cell_type": "code",
   "execution_count": 1,
   "metadata": {},
   "outputs": [],
   "source": [
    "from tensorflow.keras.preprocessing.image import ImageDataGenerator\n",
    "from tensorflow.keras.applications import VGG16\n",
    "from tensorflow.keras.layers import AveragePooling2D\n",
    "from tensorflow.keras.layers import Dropout\n",
    "from tensorflow.keras.layers import Flatten\n",
    "from tensorflow.keras.layers import Dense\n",
    "from tensorflow.keras.layers import Input\n",
    "from tensorflow.keras.models import Model\n",
    "from tensorflow.keras.optimizers import Adam\n",
    "from tensorflow.keras.utils import to_categorical\n",
    "from sklearn.preprocessing import LabelBinarizer\n",
    "from sklearn.model_selection import train_test_split\n",
    "from sklearn.metrics import classification_report\n",
    "from sklearn.metrics import confusion_matrix\n",
    "from imutils import paths\n",
    "import matplotlib.pyplot as plt\n",
    "import numpy as np\n",
    "import cv2\n",
    "import os\n",
    "\n",
    "%matplotlib inline"
   ]
  },
  {
   "cell_type": "code",
   "execution_count": 2,
   "metadata": {},
   "outputs": [],
   "source": [
    "#initialize the initial learning rate, number of epochs to train for and batch size\n",
    "INIT_LR = 1e-3\n",
    "EPOCHS = 25\n",
    "BS = 8\n"
   ]
  },
  {
   "cell_type": "code",
   "execution_count": 5,
   "metadata": {},
   "outputs": [
    {
     "name": "stdout",
     "output_type": "stream",
     "text": [
      "Loading images...\n"
     ]
    }
   ],
   "source": [
    "# grab the list of images in our dataset directory, then initialize\n",
    "# the list of data (i.e., images) and class images\n",
    "print(\"Loading images...\")\n",
    "imagePaths = list(paths.list_images(r\"E:\\AAIC\\Case Studies\\keras-covid-19\\dataset\"))\n",
    "data = []\n",
    "labels = []\n",
    "\n",
    "# loop over the image paths\n",
    "for imagePath in imagePaths:\n",
    "    # extract the class label from the filename\n",
    "    label = imagePath.split(os.path.sep)[-2]\n",
    "\n",
    "    # load the image, swap color channels, and resize it to be a fixed\n",
    "    # 224x224 pixels while ignoring aspect ratio\n",
    "    image = cv2.imread(imagePath)\n",
    "    image = cv2.cvtColor(image, cv2.COLOR_BGR2RGB)\n",
    "    image = cv2.resize(image, (224, 224))\n",
    "\n",
    "    # update the data and labels lists, respectively\n",
    "    data.append(image)\n",
    "    labels.append(label)\n",
    "\n"
   ]
  },
  {
   "cell_type": "code",
   "execution_count": 10,
   "metadata": {},
   "outputs": [],
   "source": [
    "# convert the data and labels to NumPy arrays while scaling the pixel\n",
    "# intensities to the range [0, 255]\n",
    "data = np.array(data) / 255.0\n",
    "labels = np.array(labels)"
   ]
  },
  {
   "cell_type": "code",
   "execution_count": 11,
   "metadata": {},
   "outputs": [
    {
     "data": {
      "text/plain": [
       "array([[[[0.17254902, 0.16470588, 0.16862745],\n",
       "         [0.20784314, 0.2       , 0.20392157],\n",
       "         [0.22352941, 0.21568627, 0.21960784],\n",
       "         ...,\n",
       "         [0.36078431, 0.36078431, 0.36078431],\n",
       "         [0.28235294, 0.28235294, 0.28235294],\n",
       "         [0.21176471, 0.20392157, 0.21568627]],\n",
       "\n",
       "        [[0.21176471, 0.20392157, 0.20784314],\n",
       "         [0.21960784, 0.21176471, 0.21568627],\n",
       "         [0.23137255, 0.22352941, 0.23137255],\n",
       "         ...,\n",
       "         [0.25882353, 0.25098039, 0.2627451 ],\n",
       "         [0.27843137, 0.2745098 , 0.28235294],\n",
       "         [0.27843137, 0.28235294, 0.29019608]],\n",
       "\n",
       "        [[0.21176471, 0.20392157, 0.21568627],\n",
       "         [0.22352941, 0.22352941, 0.23137255],\n",
       "         [0.23529412, 0.23529412, 0.23529412],\n",
       "         ...,\n",
       "         [0.35686275, 0.35686275, 0.36470588],\n",
       "         [0.24313725, 0.24313725, 0.25098039],\n",
       "         [0.18431373, 0.17647059, 0.18823529]],\n",
       "\n",
       "        ...,\n",
       "\n",
       "        [[0.2745098 , 0.2745098 , 0.28235294],\n",
       "         [0.29411765, 0.29411765, 0.30196078],\n",
       "         [0.27058824, 0.27058824, 0.27843137],\n",
       "         ...,\n",
       "         [0.26666667, 0.26666667, 0.2745098 ],\n",
       "         [0.35294118, 0.35294118, 0.36078431],\n",
       "         [0.35686275, 0.35686275, 0.36470588]],\n",
       "\n",
       "        [[0.31372549, 0.31372549, 0.32156863],\n",
       "         [0.29019608, 0.29019608, 0.29803922],\n",
       "         [0.2745098 , 0.2745098 , 0.28235294],\n",
       "         ...,\n",
       "         [0.28627451, 0.28627451, 0.29411765],\n",
       "         [0.3372549 , 0.3372549 , 0.34509804],\n",
       "         [0.36862745, 0.36862745, 0.37647059]],\n",
       "\n",
       "        [[0.30196078, 0.30196078, 0.30196078],\n",
       "         [0.23921569, 0.23921569, 0.25098039],\n",
       "         [0.26666667, 0.26666667, 0.2745098 ],\n",
       "         ...,\n",
       "         [0.30980392, 0.30980392, 0.31764706],\n",
       "         [0.40392157, 0.40392157, 0.41176471],\n",
       "         [0.38823529, 0.38823529, 0.39607843]]],\n",
       "\n",
       "\n",
       "       [[[0.04705882, 0.04705882, 0.04705882],\n",
       "         [0.05098039, 0.05098039, 0.05098039],\n",
       "         [0.04705882, 0.04705882, 0.04705882],\n",
       "         ...,\n",
       "         [0.04705882, 0.04705882, 0.04705882],\n",
       "         [0.04705882, 0.04705882, 0.04705882],\n",
       "         [0.05098039, 0.05098039, 0.05098039]],\n",
       "\n",
       "        [[0.05098039, 0.05098039, 0.05098039],\n",
       "         [0.05098039, 0.05098039, 0.05098039],\n",
       "         [0.05490196, 0.05490196, 0.05490196],\n",
       "         ...,\n",
       "         [0.05098039, 0.05098039, 0.05098039],\n",
       "         [0.04705882, 0.04705882, 0.04705882],\n",
       "         [0.04705882, 0.04705882, 0.04705882]],\n",
       "\n",
       "        [[0.04705882, 0.04705882, 0.04705882],\n",
       "         [0.04705882, 0.04705882, 0.04705882],\n",
       "         [0.46666667, 0.46666667, 0.46666667],\n",
       "         ...,\n",
       "         [0.05098039, 0.05098039, 0.05098039],\n",
       "         [0.04705882, 0.04705882, 0.04705882],\n",
       "         [0.04705882, 0.04705882, 0.04705882]],\n",
       "\n",
       "        ...,\n",
       "\n",
       "        [[0.03921569, 0.03921569, 0.03921569],\n",
       "         [0.04313725, 0.04313725, 0.04313725],\n",
       "         [0.03921569, 0.03921569, 0.03921569],\n",
       "         ...,\n",
       "         [0.04313725, 0.04313725, 0.04313725],\n",
       "         [0.04313725, 0.04313725, 0.04313725],\n",
       "         [0.04313725, 0.04313725, 0.04313725]],\n",
       "\n",
       "        [[0.03921569, 0.03921569, 0.03921569],\n",
       "         [0.03921569, 0.03921569, 0.03921569],\n",
       "         [0.03921569, 0.03921569, 0.03921569],\n",
       "         ...,\n",
       "         [0.03921569, 0.03921569, 0.03921569],\n",
       "         [0.04313725, 0.04313725, 0.04313725],\n",
       "         [0.04313725, 0.04313725, 0.04313725]],\n",
       "\n",
       "        [[0.04313725, 0.04313725, 0.04313725],\n",
       "         [0.03921569, 0.03921569, 0.03921569],\n",
       "         [0.03921569, 0.03921569, 0.03921569],\n",
       "         ...,\n",
       "         [0.04313725, 0.04313725, 0.04313725],\n",
       "         [0.04313725, 0.04313725, 0.04313725],\n",
       "         [0.04313725, 0.04313725, 0.04313725]]],\n",
       "\n",
       "\n",
       "       [[[0.        , 0.        , 0.        ],\n",
       "         [0.00392157, 0.00392157, 0.00392157],\n",
       "         [0.        , 0.        , 0.        ],\n",
       "         ...,\n",
       "         [0.        , 0.        , 0.        ],\n",
       "         [0.00392157, 0.00392157, 0.00392157],\n",
       "         [0.89019608, 0.89019608, 0.89019608]],\n",
       "\n",
       "        [[0.00392157, 0.00392157, 0.00392157],\n",
       "         [0.00392157, 0.00392157, 0.00392157],\n",
       "         [1.        , 1.        , 1.        ],\n",
       "         ...,\n",
       "         [0.        , 0.        , 0.        ],\n",
       "         [0.        , 0.        , 0.        ],\n",
       "         [0.88627451, 0.88627451, 0.88627451]],\n",
       "\n",
       "        [[0.00392157, 0.00392157, 0.00392157],\n",
       "         [0.00392157, 0.00392157, 0.00392157],\n",
       "         [1.        , 1.        , 1.        ],\n",
       "         ...,\n",
       "         [0.        , 0.        , 0.        ],\n",
       "         [0.        , 0.        , 0.        ],\n",
       "         [0.88627451, 0.88627451, 0.88627451]],\n",
       "\n",
       "        ...,\n",
       "\n",
       "        [[0.        , 0.        , 0.        ],\n",
       "         [0.00392157, 0.00392157, 0.00392157],\n",
       "         [0.        , 0.        , 0.        ],\n",
       "         ...,\n",
       "         [0.        , 0.        , 0.        ],\n",
       "         [0.        , 0.        , 0.        ],\n",
       "         [0.88627451, 0.88627451, 0.88627451]],\n",
       "\n",
       "        [[0.        , 0.        , 0.        ],\n",
       "         [0.        , 0.        , 0.        ],\n",
       "         [0.        , 0.        , 0.        ],\n",
       "         ...,\n",
       "         [0.        , 0.        , 0.        ],\n",
       "         [0.        , 0.        , 0.        ],\n",
       "         [0.89019608, 0.89019608, 0.89019608]],\n",
       "\n",
       "        [[0.        , 0.        , 0.        ],\n",
       "         [0.00392157, 0.00392157, 0.00392157],\n",
       "         [0.        , 0.        , 0.        ],\n",
       "         ...,\n",
       "         [0.        , 0.        , 0.        ],\n",
       "         [0.        , 0.        , 0.        ],\n",
       "         [0.89019608, 0.89019608, 0.89019608]]],\n",
       "\n",
       "\n",
       "       ...,\n",
       "\n",
       "\n",
       "       [[[0.3254902 , 0.3254902 , 0.3254902 ],\n",
       "         [0.3254902 , 0.3254902 , 0.3254902 ],\n",
       "         [0.3372549 , 0.3372549 , 0.3372549 ],\n",
       "         ...,\n",
       "         [0.45490196, 0.45490196, 0.45490196],\n",
       "         [0.45098039, 0.45098039, 0.45098039],\n",
       "         [0.44313725, 0.44313725, 0.44313725]],\n",
       "\n",
       "        [[0.31764706, 0.31764706, 0.31764706],\n",
       "         [0.31764706, 0.31764706, 0.31764706],\n",
       "         [0.33333333, 0.33333333, 0.33333333],\n",
       "         ...,\n",
       "         [0.48235294, 0.48235294, 0.48235294],\n",
       "         [0.47058824, 0.47058824, 0.47058824],\n",
       "         [0.44705882, 0.44705882, 0.44705882]],\n",
       "\n",
       "        [[0.30196078, 0.30196078, 0.30196078],\n",
       "         [0.33333333, 0.33333333, 0.33333333],\n",
       "         [0.3254902 , 0.3254902 , 0.3254902 ],\n",
       "         ...,\n",
       "         [0.41176471, 0.41176471, 0.41176471],\n",
       "         [0.44705882, 0.44705882, 0.44705882],\n",
       "         [0.49411765, 0.49411765, 0.49411765]],\n",
       "\n",
       "        ...,\n",
       "\n",
       "        [[0.01568627, 0.01568627, 0.01568627],\n",
       "         [0.01568627, 0.01568627, 0.01568627],\n",
       "         [0.01176471, 0.01176471, 0.01176471],\n",
       "         ...,\n",
       "         [0.25882353, 0.25882353, 0.25882353],\n",
       "         [0.18823529, 0.18823529, 0.18823529],\n",
       "         [0.14117647, 0.14117647, 0.14117647]],\n",
       "\n",
       "        [[0.01568627, 0.01568627, 0.01568627],\n",
       "         [0.01568627, 0.01568627, 0.01568627],\n",
       "         [0.01176471, 0.01176471, 0.01176471],\n",
       "         ...,\n",
       "         [0.26666667, 0.26666667, 0.26666667],\n",
       "         [0.20392157, 0.20392157, 0.20392157],\n",
       "         [0.14509804, 0.14509804, 0.14509804]],\n",
       "\n",
       "        [[0.01176471, 0.01176471, 0.01176471],\n",
       "         [0.01176471, 0.01176471, 0.01176471],\n",
       "         [0.01176471, 0.01176471, 0.01176471],\n",
       "         ...,\n",
       "         [0.25882353, 0.25882353, 0.25882353],\n",
       "         [0.22352941, 0.22352941, 0.22352941],\n",
       "         [0.15686275, 0.15686275, 0.15686275]]],\n",
       "\n",
       "\n",
       "       [[[0.17647059, 0.17647059, 0.17647059],\n",
       "         [0.17254902, 0.17254902, 0.17254902],\n",
       "         [0.19607843, 0.19607843, 0.19607843],\n",
       "         ...,\n",
       "         [0.15686275, 0.15686275, 0.15686275],\n",
       "         [0.16078431, 0.16078431, 0.16078431],\n",
       "         [0.16078431, 0.16078431, 0.16078431]],\n",
       "\n",
       "        [[0.17647059, 0.17647059, 0.17647059],\n",
       "         [0.18039216, 0.18039216, 0.18039216],\n",
       "         [0.20392157, 0.20392157, 0.20392157],\n",
       "         ...,\n",
       "         [0.16470588, 0.16470588, 0.16470588],\n",
       "         [0.16470588, 0.16470588, 0.16470588],\n",
       "         [0.16470588, 0.16470588, 0.16470588]],\n",
       "\n",
       "        [[0.18039216, 0.18039216, 0.18039216],\n",
       "         [0.18431373, 0.18431373, 0.18431373],\n",
       "         [0.22352941, 0.22352941, 0.22352941],\n",
       "         ...,\n",
       "         [0.17254902, 0.17254902, 0.17254902],\n",
       "         [0.16862745, 0.16862745, 0.16862745],\n",
       "         [0.16862745, 0.16862745, 0.16862745]],\n",
       "\n",
       "        ...,\n",
       "\n",
       "        [[0.09803922, 0.09803922, 0.09803922],\n",
       "         [0.14117647, 0.14117647, 0.14117647],\n",
       "         [0.16078431, 0.16078431, 0.16078431],\n",
       "         ...,\n",
       "         [0.11372549, 0.11372549, 0.11372549],\n",
       "         [0.11372549, 0.11372549, 0.11372549],\n",
       "         [0.11372549, 0.11372549, 0.11372549]],\n",
       "\n",
       "        [[0.09803922, 0.09803922, 0.09803922],\n",
       "         [0.14509804, 0.14509804, 0.14509804],\n",
       "         [0.16470588, 0.16470588, 0.16470588],\n",
       "         ...,\n",
       "         [0.11372549, 0.11372549, 0.11372549],\n",
       "         [0.11372549, 0.11372549, 0.11372549],\n",
       "         [0.11372549, 0.11372549, 0.11372549]],\n",
       "\n",
       "        [[0.09803922, 0.09803922, 0.09803922],\n",
       "         [0.14509804, 0.14509804, 0.14509804],\n",
       "         [0.16862745, 0.16862745, 0.16862745],\n",
       "         ...,\n",
       "         [0.11372549, 0.11372549, 0.11372549],\n",
       "         [0.11372549, 0.11372549, 0.11372549],\n",
       "         [0.11372549, 0.11372549, 0.11372549]]],\n",
       "\n",
       "\n",
       "       [[[0.02352941, 0.02352941, 0.02352941],\n",
       "         [0.03529412, 0.03529412, 0.03529412],\n",
       "         [0.04313725, 0.04313725, 0.04313725],\n",
       "         ...,\n",
       "         [0.0627451 , 0.0627451 , 0.0627451 ],\n",
       "         [0.05098039, 0.05098039, 0.05098039],\n",
       "         [0.03529412, 0.03529412, 0.03529412]],\n",
       "\n",
       "        [[0.01960784, 0.01960784, 0.01960784],\n",
       "         [0.03529412, 0.03529412, 0.03529412],\n",
       "         [0.04313725, 0.04313725, 0.04313725],\n",
       "         ...,\n",
       "         [0.07058824, 0.07058824, 0.07058824],\n",
       "         [0.05098039, 0.05098039, 0.05098039],\n",
       "         [0.03529412, 0.03529412, 0.03529412]],\n",
       "\n",
       "        [[0.01568627, 0.01568627, 0.01568627],\n",
       "         [0.02745098, 0.02745098, 0.02745098],\n",
       "         [0.03921569, 0.03921569, 0.03921569],\n",
       "         ...,\n",
       "         [0.0627451 , 0.0627451 , 0.0627451 ],\n",
       "         [0.03921569, 0.03921569, 0.03921569],\n",
       "         [0.03137255, 0.03137255, 0.03137255]],\n",
       "\n",
       "        ...,\n",
       "\n",
       "        [[0.        , 0.        , 0.        ],\n",
       "         [0.        , 0.        , 0.        ],\n",
       "         [0.        , 0.        , 0.        ],\n",
       "         ...,\n",
       "         [0.        , 0.        , 0.        ],\n",
       "         [0.        , 0.        , 0.        ],\n",
       "         [0.        , 0.        , 0.        ]],\n",
       "\n",
       "        [[0.01960784, 0.01960784, 0.01960784],\n",
       "         [0.        , 0.        , 0.        ],\n",
       "         [0.        , 0.        , 0.        ],\n",
       "         ...,\n",
       "         [0.        , 0.        , 0.        ],\n",
       "         [0.        , 0.        , 0.        ],\n",
       "         [0.01960784, 0.01960784, 0.01960784]],\n",
       "\n",
       "        [[0.61568627, 0.61568627, 0.61568627],\n",
       "         [0.        , 0.        , 0.        ],\n",
       "         [0.        , 0.        , 0.        ],\n",
       "         ...,\n",
       "         [0.        , 0.        , 0.        ],\n",
       "         [0.        , 0.        , 0.        ],\n",
       "         [0.61568627, 0.61568627, 0.61568627]]]])"
      ]
     },
     "execution_count": 11,
     "metadata": {},
     "output_type": "execute_result"
    }
   ],
   "source": [
    "data"
   ]
  },
  {
   "cell_type": "code",
   "execution_count": 12,
   "metadata": {},
   "outputs": [
    {
     "data": {
      "text/plain": [
       "array(['covid', 'normal'], dtype='<U6')"
      ]
     },
     "execution_count": 12,
     "metadata": {},
     "output_type": "execute_result"
    }
   ],
   "source": [
    "np.unique(labels)"
   ]
  },
  {
   "cell_type": "code",
   "execution_count": 13,
   "metadata": {},
   "outputs": [],
   "source": [
    "# perform one-hot encoding on the labels\n",
    "lb = LabelBinarizer()\n",
    "labels = lb.fit_transform(labels)\n",
    "labels = to_categorical(labels)"
   ]
  },
  {
   "cell_type": "code",
   "execution_count": 14,
   "metadata": {},
   "outputs": [
    {
     "data": {
      "text/plain": [
       "array([0., 1.], dtype=float32)"
      ]
     },
     "execution_count": 14,
     "metadata": {},
     "output_type": "execute_result"
    }
   ],
   "source": [
    "np.unique(labels)"
   ]
  },
  {
   "cell_type": "code",
   "execution_count": 15,
   "metadata": {},
   "outputs": [],
   "source": [
    "# partition the data into training and testing splits using 80% of\n",
    "# the data for training and the remaining 20% for testing\n",
    "(trainX, testX, trainY, testY) = train_test_split(data, labels,test_size=0.20, stratify=labels, random_state=42)\n"
   ]
  },
  {
   "cell_type": "code",
   "execution_count": 16,
   "metadata": {},
   "outputs": [],
   "source": [
    "# initialize the training data augmentation object\n",
    "trainAug = ImageDataGenerator(rotation_range=15,fill_mode=\"nearest\")\n"
   ]
  },
  {
   "cell_type": "code",
   "execution_count": 17,
   "metadata": {},
   "outputs": [
    {
     "name": "stdout",
     "output_type": "stream",
     "text": [
      "WARNING:tensorflow:From C:\\Users\\sanjeev\\Anaconda3\\lib\\site-packages\\tensorflow\\python\\ops\\init_ops.py:1251: calling VarianceScaling.__init__ (from tensorflow.python.ops.init_ops) with dtype is deprecated and will be removed in a future version.\n",
      "Instructions for updating:\n",
      "Call initializer instance with the dtype argument instead of passing it to the constructor\n",
      "Downloading data from https://github.com/fchollet/deep-learning-models/releases/download/v0.1/vgg16_weights_tf_dim_ordering_tf_kernels_notop.h5\n",
      "58892288/58889256 [==============================] - 51s 1us/step\n"
     ]
    }
   ],
   "source": [
    "# load the VGG16 network, ensuring the head FC layer sets are left off\n",
    "baseModel = VGG16(weights=\"imagenet\", include_top=False,input_tensor=Input(shape=(224, 224, 3)))"
   ]
  },
  {
   "cell_type": "code",
   "execution_count": 18,
   "metadata": {},
   "outputs": [],
   "source": [
    "# construct the head of the model that will be placed on top of the base model\n",
    "headModel = baseModel.output\n",
    "headModel = AveragePooling2D(pool_size=(4, 4))(headModel)\n",
    "headModel = Flatten(name=\"flatten\")(headModel)\n",
    "headModel = Dense(64, activation=\"relu\")(headModel)\n",
    "headModel = Dropout(0.5)(headModel)\n",
    "headModel = Dense(2, activation=\"softmax\")(headModel)\n"
   ]
  },
  {
   "cell_type": "code",
   "execution_count": 19,
   "metadata": {},
   "outputs": [],
   "source": [
    "# place the head FC model on top of the base model (this will become the actual model we will train)\n",
    "model = Model(inputs=baseModel.input, outputs=headModel)"
   ]
  },
  {
   "cell_type": "code",
   "execution_count": 20,
   "metadata": {},
   "outputs": [],
   "source": [
    "# loop over all layers in the base model and freeze them so they will\n",
    "# *not* be updated during the first training process\n",
    "for layer in baseModel.layers:\n",
    "    layer.trainable = False\n"
   ]
  },
  {
   "cell_type": "code",
   "execution_count": 21,
   "metadata": {},
   "outputs": [
    {
     "name": "stdout",
     "output_type": "stream",
     "text": [
      "[INFO] compiling model...\n"
     ]
    }
   ],
   "source": [
    "# compile our model\n",
    "print(\"[INFO] compiling model...\")\n",
    "opt = Adam(lr=INIT_LR, decay=INIT_LR / EPOCHS)\n",
    "model.compile(loss=\"binary_crossentropy\", optimizer=opt,metrics=[\"accuracy\"])\n"
   ]
  },
  {
   "cell_type": "code",
   "execution_count": 22,
   "metadata": {},
   "outputs": [
    {
     "name": "stdout",
     "output_type": "stream",
     "text": [
      "[INFO] training head...\n",
      "Epoch 1/25\n",
      "WARNING:tensorflow:From C:\\Users\\sanjeev\\Anaconda3\\lib\\site-packages\\tensorflow\\python\\ops\\math_grad.py:1250: add_dispatch_support.<locals>.wrapper (from tensorflow.python.ops.array_ops) is deprecated and will be removed in a future version.\n",
      "Instructions for updating:\n",
      "Use tf.where in 2.0, which has the same broadcast rule as np.where\n",
      "5/5 [==============================] - 21s 4s/step - loss: 0.8538 - acc: 0.4500 - val_loss: 0.6208 - val_acc: 0.7000\n",
      "Epoch 2/25\n",
      "5/5 [==============================] - 17s 3s/step - loss: 0.7020 - acc: 0.5750 - val_loss: 0.6476 - val_acc: 0.5000\n",
      "Epoch 3/25\n",
      "5/5 [==============================] - 17s 3s/step - loss: 0.7348 - acc: 0.5000 - val_loss: 0.5904 - val_acc: 0.8000\n",
      "Epoch 4/25\n",
      "5/5 [==============================] - 17s 3s/step - loss: 0.7000 - acc: 0.6000 - val_loss: 0.5649 - val_acc: 1.0000\n",
      "Epoch 5/25\n",
      "5/5 [==============================] - 17s 3s/step - loss: 0.5823 - acc: 0.7000 - val_loss: 0.5545 - val_acc: 1.0000\n",
      "Epoch 6/25\n",
      "5/5 [==============================] - 17s 3s/step - loss: 0.7666 - acc: 0.5250 - val_loss: 0.5381 - val_acc: 1.0000\n",
      "Epoch 7/25\n",
      "5/5 [==============================] - 17s 3s/step - loss: 0.6015 - acc: 0.6000 - val_loss: 0.5273 - val_acc: 1.0000\n",
      "Epoch 8/25\n",
      "5/5 [==============================] - 17s 3s/step - loss: 0.5249 - acc: 0.8000 - val_loss: 0.5215 - val_acc: 1.0000\n",
      "Epoch 9/25\n",
      "5/5 [==============================] - 17s 3s/step - loss: 0.4750 - acc: 0.8250 - val_loss: 0.5160 - val_acc: 1.0000\n",
      "Epoch 10/25\n",
      "5/5 [==============================] - 18s 4s/step - loss: 0.4455 - acc: 0.8500 - val_loss: 0.5063 - val_acc: 1.0000\n",
      "Epoch 11/25\n",
      "5/5 [==============================] - 17s 3s/step - loss: 0.5747 - acc: 0.7500 - val_loss: 0.4855 - val_acc: 1.0000\n",
      "Epoch 12/25\n",
      "5/5 [==============================] - 17s 3s/step - loss: 0.5493 - acc: 0.7500 - val_loss: 0.4694 - val_acc: 1.0000\n",
      "Epoch 13/25\n",
      "5/5 [==============================] - 17s 3s/step - loss: 0.5238 - acc: 0.7750 - val_loss: 0.4592 - val_acc: 1.0000\n",
      "Epoch 14/25\n",
      "5/5 [==============================] - 17s 3s/step - loss: 0.4610 - acc: 0.8000 - val_loss: 0.4629 - val_acc: 0.8000\n",
      "Epoch 15/25\n",
      "5/5 [==============================] - 17s 3s/step - loss: 0.4368 - acc: 0.8250 - val_loss: 0.4578 - val_acc: 0.8000\n",
      "Epoch 16/25\n",
      "5/5 [==============================] - 17s 3s/step - loss: 0.4241 - acc: 0.8250 - val_loss: 0.4496 - val_acc: 0.8000\n",
      "Epoch 17/25\n",
      "5/5 [==============================] - 18s 4s/step - loss: 0.4187 - acc: 0.8500 - val_loss: 0.4371 - val_acc: 0.8000\n",
      "Epoch 18/25\n",
      "5/5 [==============================] - 18s 4s/step - loss: 0.3898 - acc: 0.9000 - val_loss: 0.4118 - val_acc: 1.0000\n",
      "Epoch 19/25\n",
      "5/5 [==============================] - 17s 3s/step - loss: 0.4021 - acc: 0.8250 - val_loss: 0.3981 - val_acc: 1.0000\n",
      "Epoch 20/25\n",
      "5/5 [==============================] - 17s 3s/step - loss: 0.4081 - acc: 0.8750 - val_loss: 0.3900 - val_acc: 1.0000\n",
      "Epoch 21/25\n",
      "5/5 [==============================] - 17s 3s/step - loss: 0.3874 - acc: 0.8750 - val_loss: 0.4069 - val_acc: 0.8000\n",
      "Epoch 22/25\n",
      "5/5 [==============================] - 17s 3s/step - loss: 0.3649 - acc: 0.9500 - val_loss: 0.3881 - val_acc: 0.9000\n",
      "Epoch 23/25\n",
      "5/5 [==============================] - 17s 3s/step - loss: 0.3485 - acc: 0.8750 - val_loss: 0.3711 - val_acc: 1.0000\n",
      "Epoch 24/25\n",
      "5/5 [==============================] - 18s 4s/step - loss: 0.3459 - acc: 0.9500 - val_loss: 0.3505 - val_acc: 1.0000\n",
      "Epoch 25/25\n",
      "5/5 [==============================] - 19s 4s/step - loss: 0.3276 - acc: 0.8750 - val_loss: 0.3392 - val_acc: 1.0000\n"
     ]
    }
   ],
   "source": [
    "# train the head of the network\n",
    "print(\"[INFO] training head...\")\n",
    "H = model.fit_generator(trainAug.flow(trainX, trainY, batch_size=BS),\n",
    "    steps_per_epoch=len(trainX) // BS,\n",
    "    validation_data=(testX, testY),\n",
    "    validation_steps=len(testX) // BS,\n",
    "    epochs=EPOCHS)\n"
   ]
  },
  {
   "cell_type": "code",
   "execution_count": 23,
   "metadata": {},
   "outputs": [
    {
     "name": "stdout",
     "output_type": "stream",
     "text": [
      "[INFO] evaluating network...\n"
     ]
    }
   ],
   "source": [
    "# make predictions on the testing set\n",
    "print(\"[INFO] evaluating network...\")\n",
    "predIdxs = model.predict(testX, batch_size=BS)"
   ]
  },
  {
   "cell_type": "code",
   "execution_count": 24,
   "metadata": {},
   "outputs": [],
   "source": [
    "# for each image in the testing set we need to find the index of the\n",
    "# label with corresponding largest predicted probability\n",
    "predIdxs = np.argmax(predIdxs, axis=1)"
   ]
  },
  {
   "cell_type": "code",
   "execution_count": 31,
   "metadata": {},
   "outputs": [
    {
     "data": {
      "text/plain": [
       "array([1, 1, 1, 1, 0, 0, 0, 0, 1, 0], dtype=int64)"
      ]
     },
     "execution_count": 31,
     "metadata": {},
     "output_type": "execute_result"
    }
   ],
   "source": [
    "predIdxs"
   ]
  },
  {
   "cell_type": "code",
   "execution_count": 33,
   "metadata": {},
   "outputs": [
    {
     "data": {
      "text/plain": [
       "array([1, 1, 1, 1, 0, 0, 0, 0, 1, 0], dtype=int64)"
      ]
     },
     "execution_count": 33,
     "metadata": {},
     "output_type": "execute_result"
    }
   ],
   "source": [
    "testY.argmax(axis=1)"
   ]
  },
  {
   "cell_type": "code",
   "execution_count": 25,
   "metadata": {},
   "outputs": [
    {
     "name": "stdout",
     "output_type": "stream",
     "text": [
      "              precision    recall  f1-score   support\n",
      "\n",
      "       covid       1.00      1.00      1.00         5\n",
      "      normal       1.00      1.00      1.00         5\n",
      "\n",
      "    accuracy                           1.00        10\n",
      "   macro avg       1.00      1.00      1.00        10\n",
      "weighted avg       1.00      1.00      1.00        10\n",
      "\n"
     ]
    }
   ],
   "source": [
    "# show a nicely formatted classification report\n",
    "print(classification_report(testY.argmax(axis=1), predIdxs,target_names=lb.classes_))"
   ]
  },
  {
   "cell_type": "code",
   "execution_count": 26,
   "metadata": {},
   "outputs": [],
   "source": [
    "# compute the confusion matrix and and use it to derive the raw\n",
    "# accuracy, sensitivity, and specificity\n",
    "cm = confusion_matrix(testY.argmax(axis=1), predIdxs)\n",
    "total = sum(sum(cm))\n",
    "acc = (cm[0, 0] + cm[1, 1]) / total\n",
    "sensitivity = cm[0, 0] / (cm[0, 0] + cm[0, 1])\n",
    "specificity = cm[1, 1] / (cm[1, 0] + cm[1, 1])"
   ]
  },
  {
   "cell_type": "code",
   "execution_count": 27,
   "metadata": {},
   "outputs": [
    {
     "name": "stdout",
     "output_type": "stream",
     "text": [
      "[[5 0]\n",
      " [0 5]]\n",
      "acc: 1.0000\n",
      "sensitivity: 1.0000\n",
      "specificity: 1.0000\n"
     ]
    }
   ],
   "source": [
    "# show the confusion matrix, accuracy, sensitivity, and specificity\n",
    "print(cm)\n",
    "print(\"acc: {:.4f}\".format(acc))\n",
    "print(\"sensitivity: {:.4f}\".format(sensitivity))\n",
    "print(\"specificity: {:.4f}\".format(specificity))"
   ]
  },
  {
   "cell_type": "code",
   "execution_count": 59,
   "metadata": {},
   "outputs": [],
   "source": [
    "def plot_Confusion_Matrix(actual_labels,predict_labels,title):\n",
    "    \"\"\"This function plot the confusion matrix\"\"\"\n",
    "    # Reference : https://seaborn.pydata.org/generated/seaborn.heatmap.html\n",
    "    cm = confusion_matrix(actual_labels, predict_labels)\n",
    "    classNames = ['NO','YES']\n",
    "    cm_data = pd.DataFrame(cm,index = classNames,\n",
    "                  columns = classNames)\n",
    "    plt.figure(figsize = (5,4))\n",
    "    sns.heatmap(cm_data, annot=True,fmt=\"d\")\n",
    "    plt.title(title)\n",
    "    plt.ylabel('Actual label')\n",
    "    plt.xlabel('Predicted label')\n",
    "    plt.show()\n"
   ]
  },
  {
   "cell_type": "code",
   "execution_count": 62,
   "metadata": {},
   "outputs": [
    {
     "name": "stderr",
     "output_type": "stream",
     "text": [
      "C:\\Users\\sanjeev\\Anaconda3\\lib\\site-packages\\statsmodels\\tools\\_testing.py:19: FutureWarning: pandas.util.testing is deprecated. Use the functions in the public API at pandas.testing instead.\n",
      "  import pandas.util.testing as tm\n"
     ]
    },
    {
     "data": {
      "image/png": "[encoded data removed]",
      "text/plain": [
       "<Figure size 360x288 with 2 Axes>"
      ]
     },
     "metadata": {},
     "output_type": "display_data"
    }
   ],
   "source": [
    "import pandas as pd\n",
    "import seaborn as sns\n",
    "\n",
    "plot_Confusion_Matrix(testY.argmax(axis=1), predIdxs,\"Confusion Matrix\")"
   ]
  },
  {
   "cell_type": "code",
   "execution_count": 56,
   "metadata": {},
   "outputs": [
    {
     "data": {
      "text/plain": [
       "<matplotlib.legend.Legend at 0x231118dbdd8>"
      ]
     },
     "execution_count": 56,
     "metadata": {},
     "output_type": "execute_result"
    },
    {
     "data": {
      "image/png": "[encoded data removed]",
      "text/plain": [
       "<Figure size 432x288 with 1 Axes>"
      ]
     },
     "metadata": {},
     "output_type": "display_data"
    }
   ],
   "source": [
    "# plot the training loss and accuracy\n",
    "N = EPOCHS\n",
    "plt.style.use(\"ggplot\")\n",
    "plt.figure()\n",
    "plt.plot(np.arange(0, N), H.history[\"loss\"], label=\"train_loss\")\n",
    "plt.plot(np.arange(0, N), H.history[\"val_loss\"], label=\"val_loss\")\n",
    "plt.plot(np.arange(0, N), H.history[\"acc\"], label=\"train_acc\")\n",
    "plt.plot(np.arange(0, N), H.history[\"val_acc\"], label=\"val_acc\")\n",
    "plt.title(\"Training Loss and Accuracy on COVID-19 Dataset\")\n",
    "plt.xlabel(\"Epoch #\")\n",
    "plt.ylabel(\"Loss/Accuracy\")\n",
    "plt.legend(loc=\"lower left\")"
   ]
  },
  {
   "cell_type": "code",
   "execution_count": 58,
   "metadata": {},
   "outputs": [
    {
     "data": {
      "text/plain": [
       "<Figure size 432x288 with 0 Axes>"
      ]
     },
     "metadata": {},
     "output_type": "display_data"
    }
   ],
   "source": [
    "plt.savefig('plot.jpeg')"
   ]
  },
  {
   "cell_type": "code",
   "execution_count": 34,
   "metadata": {},
   "outputs": [
    {
     "name": "stdout",
     "output_type": "stream",
     "text": [
      "[INFO] saving COVID-19 detector model...\n"
     ]
    }
   ],
   "source": [
    "# serialize the model to disk\n",
    "print(\"[INFO] saving COVID-19 detector model...\")\n",
    "model.save(\"COVID19_Detection.hdf5\", save_format=\"hdf5\")"
   ]
  },
  {
   "cell_type": "code",
   "execution_count": 48,
   "metadata": {},
   "outputs": [],
   "source": [
    "# test the model\n",
    "image = cv2.imread(r'E:\\AAIC\\Case Studies\\keras-covid-19\\dataset\\covid\\nejmoa2001191_f1-PA.jpeg')\n",
    "image = cv2.cvtColor(image, cv2.COLOR_BGR2RGB)\n",
    "image = cv2.resize(image, (224, 224))\n"
   ]
  },
  {
   "cell_type": "code",
   "execution_count": 49,
   "metadata": {},
   "outputs": [],
   "source": [
    "test = []\n",
    "test.append(image)"
   ]
  },
  {
   "cell_type": "code",
   "execution_count": 50,
   "metadata": {},
   "outputs": [],
   "source": [
    "test = np.array(test)/255.0"
   ]
  },
  {
   "cell_type": "code",
   "execution_count": 51,
   "metadata": {},
   "outputs": [
    {
     "data": {
      "text/plain": [
       "array([[[[0.02352941, 0.02352941, 0.02352941],\n",
       "         [0.02352941, 0.02352941, 0.02352941],\n",
       "         [0.02352941, 0.02352941, 0.02352941],\n",
       "         ...,\n",
       "         [0.02352941, 0.02352941, 0.02352941],\n",
       "         [0.02352941, 0.02352941, 0.02352941],\n",
       "         [0.02352941, 0.02352941, 0.02352941]],\n",
       "\n",
       "        [[0.02352941, 0.02352941, 0.02352941],\n",
       "         [0.02352941, 0.02352941, 0.02352941],\n",
       "         [0.02352941, 0.02352941, 0.02352941],\n",
       "         ...,\n",
       "         [0.02352941, 0.02352941, 0.02352941],\n",
       "         [0.02352941, 0.02352941, 0.02352941],\n",
       "         [0.02352941, 0.02352941, 0.02352941]],\n",
       "\n",
       "        [[0.02352941, 0.02352941, 0.02352941],\n",
       "         [0.02352941, 0.02352941, 0.02352941],\n",
       "         [0.02352941, 0.02352941, 0.02352941],\n",
       "         ...,\n",
       "         [0.02352941, 0.02352941, 0.02352941],\n",
       "         [0.02352941, 0.02352941, 0.02352941],\n",
       "         [0.02352941, 0.02352941, 0.02352941]],\n",
       "\n",
       "        ...,\n",
       "\n",
       "        [[0.02352941, 0.02352941, 0.02352941],\n",
       "         [0.02352941, 0.02352941, 0.02352941],\n",
       "         [0.02352941, 0.02352941, 0.02352941],\n",
       "         ...,\n",
       "         [0.02352941, 0.02352941, 0.02352941],\n",
       "         [0.02352941, 0.02352941, 0.02352941],\n",
       "         [0.02352941, 0.02352941, 0.02352941]],\n",
       "\n",
       "        [[0.02352941, 0.02352941, 0.02352941],\n",
       "         [0.02352941, 0.02352941, 0.02352941],\n",
       "         [0.02352941, 0.02352941, 0.02352941],\n",
       "         ...,\n",
       "         [0.02352941, 0.02352941, 0.02352941],\n",
       "         [0.02352941, 0.02352941, 0.02352941],\n",
       "         [0.02352941, 0.02352941, 0.02352941]],\n",
       "\n",
       "        [[0.02352941, 0.02352941, 0.02352941],\n",
       "         [0.02352941, 0.02352941, 0.02352941],\n",
       "         [0.02352941, 0.02352941, 0.02352941],\n",
       "         ...,\n",
       "         [0.02352941, 0.02352941, 0.02352941],\n",
       "         [0.02352941, 0.02352941, 0.02352941],\n",
       "         [0.02352941, 0.02352941, 0.02352941]]]])"
      ]
     },
     "execution_count": 51,
     "metadata": {},
     "output_type": "execute_result"
    }
   ],
   "source": [
    "test"
   ]
  },
  {
   "cell_type": "code",
   "execution_count": 52,
   "metadata": {},
   "outputs": [],
   "source": [
    "pred = model.predict(test, batch_size=BS)"
   ]
  },
  {
   "cell_type": "code",
   "execution_count": 53,
   "metadata": {},
   "outputs": [],
   "source": [
    "predIds = np.argmax(pred, axis=1)"
   ]
  },
  {
   "cell_type": "code",
   "execution_count": 54,
   "metadata": {},
   "outputs": [
    {
     "data": {
      "text/plain": [
       "array([0], dtype=int64)"
      ]
     },
     "execution_count": 54,
     "metadata": {},
     "output_type": "execute_result"
    }
   ],
   "source": [
    "predIds"
   ]
  },
  {
   "cell_type": "code",
   "execution_count": 55,
   "metadata": {},
   "outputs": [
    {
     "name": "stdout",
     "output_type": "stream",
     "text": [
      "['covid']\n"
     ]
    }
   ],
   "source": [
    "print(lb.classes_[predIds])"
   ]
  },
  {
   "cell_type": "code",
   "execution_count": 57,
   "metadata": {},
   "outputs": [
    {
     "name": "stdout",
     "output_type": "stream",
     "text": [
      "Model: \"model\"\n",
      "_________________________________________________________________\n",
      "Layer (type)                 Output Shape              Param #   \n",
      "=================================================================\n",
      "input_1 (InputLayer)         [(None, 224, 224, 3)]     0         \n",
      "_________________________________________________________________\n",
      "block1_conv1 (Conv2D)        (None, 224, 224, 64)      1792      \n",
      "_________________________________________________________________\n",
      "block1_conv2 (Conv2D)        (None, 224, 224, 64)      36928     \n",
      "_________________________________________________________________\n",
      "block1_pool (MaxPooling2D)   (None, 112, 112, 64)      0         \n",
      "_________________________________________________________________\n",
      "block2_conv1 (Conv2D)        (None, 112, 112, 128)     73856     \n",
      "_________________________________________________________________\n",
      "block2_conv2 (Conv2D)        (None, 112, 112, 128)     147584    \n",
      "_________________________________________________________________\n",
      "block2_pool (MaxPooling2D)   (None, 56, 56, 128)       0         \n",
      "_________________________________________________________________\n",
      "block3_conv1 (Conv2D)        (None, 56, 56, 256)       295168    \n",
      "_________________________________________________________________\n",
      "block3_conv2 (Conv2D)        (None, 56, 56, 256)       590080    \n",
      "_________________________________________________________________\n",
      "block3_conv3 (Conv2D)        (None, 56, 56, 256)       590080    \n",
      "_________________________________________________________________\n",
      "block3_pool (MaxPooling2D)   (None, 28, 28, 256)       0         \n",
      "_________________________________________________________________\n",
      "block4_conv1 (Conv2D)        (None, 28, 28, 512)       1180160   \n",
      "_________________________________________________________________\n",
      "block4_conv2 (Conv2D)        (None, 28, 28, 512)       2359808   \n",
      "_________________________________________________________________\n",
      "block4_conv3 (Conv2D)        (None, 28, 28, 512)       2359808   \n",
      "_________________________________________________________________\n",
      "block4_pool (MaxPooling2D)   (None, 14, 14, 512)       0         \n",
      "_________________________________________________________________\n",
      "block5_conv1 (Conv2D)        (None, 14, 14, 512)       2359808   \n",
      "_________________________________________________________________\n",
      "block5_conv2 (Conv2D)        (None, 14, 14, 512)       2359808   \n",
      "_________________________________________________________________\n",
      "block5_conv3 (Conv2D)        (None, 14, 14, 512)       2359808   \n",
      "_________________________________________________________________\n",
      "block5_pool (MaxPooling2D)   (None, 7, 7, 512)         0         \n",
      "_________________________________________________________________\n",
      "average_pooling2d (AveragePo (None, 1, 1, 512)         0         \n",
      "_________________________________________________________________\n",
      "flatten (Flatten)            (None, 512)               0         \n",
      "_________________________________________________________________\n",
      "dense (Dense)                (None, 64)                32832     \n",
      "_________________________________________________________________\n",
      "dropout (Dropout)            (None, 64)                0         \n",
      "_________________________________________________________________\n",
      "dense_1 (Dense)              (None, 2)                 130       \n",
      "=================================================================\n",
      "Total params: 14,747,650\n",
      "Trainable params: 32,962\n",
      "Non-trainable params: 14,714,688\n",
      "_________________________________________________________________\n"
     ]
    }
   ],
   "source": [
    "model.summary()"
   ]
  },
  {
   "cell_type": "code",
   "execution_count": null,
   "metadata": {},
   "outputs": [],
   "source": []
  }
 ],
 "metadata": {
  "kernelspec": {
   "display_name": "Python 3",
   "language": "python",
   "name": "python3"
  },
  "language_info": {
   "codemirror_mode": {
    "name": "ipython",
    "version": 3
   },
   "file_extension": ".py",
   "mimetype": "text/x-python",
   "name": "python",
   "nbconvert_exporter": "python",
   "pygments_lexer": "ipython3",
   "version": "3.7.3"
  }
 },
 "nbformat": 4,
 "nbformat_minor": 2
}
